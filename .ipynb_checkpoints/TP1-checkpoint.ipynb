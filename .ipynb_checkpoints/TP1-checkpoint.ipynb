{
 "cells": [
  {
   "cell_type": "code",
   "execution_count": 4,
   "id": "57046bde",
   "metadata": {},
   "outputs": [],
   "source": [
    "# importacion general de librerias y de visualizacion (matplotlib y seaborn)\n",
    "import pandas as pd\n",
    "import numpy as np\n",
    "import matplotlib.pyplot as plt\n",
    "import seaborn as sns\n",
    "\n",
    "%matplotlib inline\n",
    "\n",
    "plt.style.use('default') # haciendo los graficos un poco mas bonitos en matplotlib\n",
    "#plt.rcParams['figure.figsize'] = (20, 10)\n",
    "\n",
    "sns.set(style=\"whitegrid\") # seteando tipo de grid en seaborn\n",
    "\n",
    "pd.options.display.float_format = '{:20,.2f}'.format # suprimimos la notacion cientifica en los outputs\n",
    "\n",
    "import warnings\n",
    "warnings.filterwarnings('ignore')\n",
    "\n",
    "from datetime import datetime"
   ]
  },
  {
   "cell_type": "code",
   "execution_count": 5,
   "id": "5683d314",
   "metadata": {},
   "outputs": [],
   "source": [
    "# Cargo los datasets\n",
    "wiki_contents=pd.read_csv('./Wikipedia_dataset_2c2021/contents.csv')\n",
    "wiki_categorylinks=pd.read_csv('./Wikipedia_dataset_2c2021/wiki_categorylinks.csv')\n",
    "wiki_contents_text_sample=pd.read_csv('./Wikipedia_dataset_2c2021/contents_text_sample.csv')\n",
    "wiki_geo_tags=pd.read_csv('./Wikipedia_dataset_2c2021/geo_tags.csv')\n",
    "wiki_languages=pd.read_csv('./Wikipedia_dataset_2c2021/languages.csv')\n",
    "wiki_logs=pd.read_csv('./Wikipedia_dataset_2c2021/logs.csv')\n",
    "wiki_pagelinks_sample=pd.read_csv('./Wikipedia_dataset_2c2021/pagelinks_sample.csv')\n",
    "wiki_redirect_list=pd.read_csv('./Wikipedia_dataset_2c2021/redirect_list.csv')\n"
   ]
  },
  {
   "cell_type": "markdown",
   "id": "0b582e68",
   "metadata": {},
   "source": [
    " # Pregunta 6 (2 estrella)\n",
    " \n",
    "El porcentaje de contenidos que están publicados cuya última edición no tiene comentario para los usuarios que realizaron 1, >10 y >100 de las últimas ediciones."
   ]
  },
  {
   "cell_type": "code",
   "execution_count": null,
   "id": "b619635e",
   "metadata": {},
   "outputs": [],
   "source": []
  }
 ],
 "metadata": {
  "kernelspec": {
   "display_name": "organizacionDatos",
   "language": "python",
   "name": "organizaciondatos"
  },
  "language_info": {
   "codemirror_mode": {
    "name": "ipython",
    "version": 3
   },
   "file_extension": ".py",
   "mimetype": "text/x-python",
   "name": "python",
   "nbconvert_exporter": "python",
   "pygments_lexer": "ipython3",
   "version": "3.9.6"
  }
 },
 "nbformat": 4,
 "nbformat_minor": 5
}
