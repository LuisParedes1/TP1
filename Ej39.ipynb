{
 "cells": [
  {
   "cell_type": "markdown",
   "id": "3adb2fd3",
   "metadata": {},
   "source": [
    "# ¿Cuál es el contenido al que más se hacen redirecciones?\n",
    "\n",
    "En `redirect_list.csv` tengo la columna `rd_title` que contiene el titulo del contenido al que redige cada fila.\n",
    "\n",
    "Hallo el titulo que mas se repite en esta columna ya que representa el titulo del contenido al que mas se hacen redirecciones."
   ]
  },
  {
   "cell_type": "code",
   "execution_count": 1,
   "id": "4a471af6",
   "metadata": {},
   "outputs": [],
   "source": [
    "# importacion general de librerias y de visualizacion (matplotlib y seaborn)\n",
    "import pandas as pd\n",
    "import numpy as np\n",
    "import matplotlib.pyplot as plt\n",
    "import seaborn as sns\n",
    "\n",
    "%matplotlib inline\n",
    "\n",
    "plt.style.use('default') # haciendo los graficos un poco mas bonitos en matplotlib\n",
    "#plt.rcParams['figure.figsize'] = (20, 10)\n",
    "\n",
    "sns.set(style=\"whitegrid\") # seteando tipo de grid en seaborn\n",
    "\n",
    "pd.options.display.float_format = '{:20,.2f}'.format # suprimimos la notacion cientifica en los outputs\n",
    "\n",
    "import warnings\n",
    "warnings.filterwarnings('ignore')\n",
    "\n",
    "from datetime import datetime"
   ]
  },
  {
   "cell_type": "code",
   "execution_count": 2,
   "id": "ce12c356",
   "metadata": {},
   "outputs": [],
   "source": [
    "# Cargo los datasets\n",
    "wiki_contents=pd.read_csv('./Wikipedia_dataset_2c2021/redirect_list.csv')"
   ]
  },
  {
   "cell_type": "markdown",
   "id": "c705030e",
   "metadata": {},
   "source": [
    "## Evaluo si es necesario hacer una limpieza de datos. \n",
    "\n",
    "Si el valor que mas se repite en `rd_title` es `Nan` entonces lo descarto. De lo contrario me quedo con el primero "
   ]
  },
  {
   "cell_type": "code",
   "execution_count": 3,
   "id": "53d0140f",
   "metadata": {},
   "outputs": [
    {
     "data": {
      "text/plain": [
       "Artículo_futuro                                  1161\n",
       "IV_milenio                                       1001\n",
       "V_milenio                                         998\n",
       "Estaciones_de_Metrobús_de_la_Ciudad_de_México     396\n",
       "163.117.0.0                                       310\n",
       "                                                 ... \n",
       "Gabriela_(telenovela_brasileña)                     1\n",
       "Gabriela_(telenovela)                               1\n",
       "Margarita_Eriksdotter,_reina_de_Noruega             1\n",
       "Bose_Corporation                                    1\n",
       "Bercero_(desambiguación)                            1\n",
       "Name: rd_title, Length: 726321, dtype: int64"
      ]
     },
     "execution_count": 3,
     "metadata": {},
     "output_type": "execute_result"
    }
   ],
   "source": [
    "wiki_contents['rd_title'].value_counts()"
   ]
  },
  {
   "cell_type": "code",
   "execution_count": 4,
   "id": "00928dd6",
   "metadata": {},
   "outputs": [
    {
     "data": {
      "text/plain": [
       "Artículo_futuro    1161\n",
       "Name: rd_title, dtype: int64"
      ]
     },
     "execution_count": 4,
     "metadata": {},
     "output_type": "execute_result"
    }
   ],
   "source": [
    "wiki_contents['rd_title'].value_counts().nlargest(1)"
   ]
  },
  {
   "cell_type": "markdown",
   "id": "445adac0",
   "metadata": {},
   "source": [
    "## Respuesta\n",
    "\n",
    "El contenido al que mas le hacen redirecciones es `Artículo_futuro`, con 1161 redirecciones."
   ]
  }
 ],
 "metadata": {
  "kernelspec": {
   "display_name": "organizacionDatos",
   "language": "python",
   "name": "organizaciondatos"
  },
  "language_info": {
   "codemirror_mode": {
    "name": "ipython",
    "version": 3
   },
   "file_extension": ".py",
   "mimetype": "text/x-python",
   "name": "python",
   "nbconvert_exporter": "python",
   "pygments_lexer": "ipython3",
   "version": "3.9.6"
  }
 },
 "nbformat": 4,
 "nbformat_minor": 5
}
