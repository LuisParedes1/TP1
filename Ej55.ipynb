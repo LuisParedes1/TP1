{
 "cells": [
  {
   "cell_type": "markdown",
   "id": "3534b155",
   "metadata": {},
   "source": [
    "# Pregunta 55\n",
    "\n",
    "La cantidad promedio de modificaciones históricas que tuvieron los ítems cuya última versión fue editada por un usuario registrado o no registrado.\n",
    "\n",
    "## Supuestos\n",
    "\n",
    "* Se interpreta por 'item' como publicacion de contenido.\n",
    "* `contents.csv` contiene la ultima version editada del contenido.\n",
    "* `contents.csv` no tiene publicaciones repetidas, porque de haber habrian 2 ultimas modificaciones y no tiene sentido.\n",
    "* `log.csv` contiene el historial de modificaciones hechas para cada publicacion de contenido."
   ]
  },
  {
   "cell_type": "code",
   "execution_count": 1,
   "id": "6e5193c9",
   "metadata": {},
   "outputs": [],
   "source": [
    "# importacion general de librerias y de visualizacion (matplotlib y seaborn)\n",
    "import pandas as pd\n",
    "import numpy as np\n",
    "import matplotlib.pyplot as plt\n",
    "import seaborn as sns\n",
    "\n",
    "%matplotlib inline\n",
    "\n",
    "plt.style.use('default') # haciendo los graficos un poco mas bonitos en matplotlib\n",
    "#plt.rcParams['figure.figsize'] = (20, 10)\n",
    "\n",
    "sns.set(style=\"whitegrid\") # seteando tipo de grid en seaborn\n",
    "\n",
    "pd.options.display.float_format = '{:20,.2f}'.format # suprimimos la notacion cientifica en los outputs\n",
    "\n",
    "import warnings\n",
    "warnings.filterwarnings('ignore')\n",
    "\n",
    "from datetime import datetime"
   ]
  },
  {
   "cell_type": "markdown",
   "id": "325fbedf",
   "metadata": {},
   "source": [
    "# 1. Creo un identificador unico para cada uno de los usuarios\n",
    "\n",
    "Creo un identificador unico para cada usuario registrado o no registrado que hizo la ultima modificacion."
   ]
  },
  {
   "cell_type": "code",
   "execution_count": 2,
   "id": "6b25fcda",
   "metadata": {},
   "outputs": [],
   "source": [
    "wiki_contents=pd.read_csv('./Wikipedia_dataset_2c2021/contents.csv', \\\n",
    "                          usecols=['revisor_id','revisor_ip', 'title'])"
   ]
  },
  {
   "cell_type": "code",
   "execution_count": 3,
   "id": "0f772c72",
   "metadata": {},
   "outputs": [],
   "source": [
    "wiki_contents.revisor_id.fillna(wiki_contents.revisor_ip,inplace=True)\n",
    "del wiki_contents[\"revisor_ip\"]\n",
    "\n",
    "#wiki_contents.drop(columns='revisor_ip')"
   ]
  },
  {
   "cell_type": "code",
   "execution_count": 4,
   "id": "46026113",
   "metadata": {},
   "outputs": [
    {
     "data": {
      "text/html": [
       "<div>\n",
       "<style scoped>\n",
       "    .dataframe tbody tr th:only-of-type {\n",
       "        vertical-align: middle;\n",
       "    }\n",
       "\n",
       "    .dataframe tbody tr th {\n",
       "        vertical-align: top;\n",
       "    }\n",
       "\n",
       "    .dataframe thead th {\n",
       "        text-align: right;\n",
       "    }\n",
       "</style>\n",
       "<table border=\"1\" class=\"dataframe\">\n",
       "  <thead>\n",
       "    <tr style=\"text-align: right;\">\n",
       "      <th></th>\n",
       "      <th>title</th>\n",
       "      <th>identificador_editor</th>\n",
       "    </tr>\n",
       "  </thead>\n",
       "  <tbody>\n",
       "    <tr>\n",
       "      <th>0</th>\n",
       "      <td>Wikipedia:Artículos solicitados</td>\n",
       "      <td>1,708,233.00</td>\n",
       "    </tr>\n",
       "    <tr>\n",
       "      <th>1</th>\n",
       "      <td>Andorra</td>\n",
       "      <td>2800:CD0:FC1B:A900:C5A4:9E81:7175:2ED2</td>\n",
       "    </tr>\n",
       "    <tr>\n",
       "      <th>2</th>\n",
       "      <td>Argentina</td>\n",
       "      <td>4,642,283.00</td>\n",
       "    </tr>\n",
       "    <tr>\n",
       "      <th>3</th>\n",
       "      <td>Geografía de Andorra</td>\n",
       "      <td>5,338,508.00</td>\n",
       "    </tr>\n",
       "    <tr>\n",
       "      <th>4</th>\n",
       "      <td>Demografía de Andorra</td>\n",
       "      <td>3,615,366.00</td>\n",
       "    </tr>\n",
       "    <tr>\n",
       "      <th>...</th>\n",
       "      <td>...</td>\n",
       "      <td>...</td>\n",
       "    </tr>\n",
       "    <tr>\n",
       "      <th>4132159</th>\n",
       "      <td>Cruz nestoriana</td>\n",
       "      <td>474,907.00</td>\n",
       "    </tr>\n",
       "    <tr>\n",
       "      <th>4132160</th>\n",
       "      <td>Manifestación del orgullo gay de 1977 en Barce...</td>\n",
       "      <td>4,032,712.00</td>\n",
       "    </tr>\n",
       "    <tr>\n",
       "      <th>4132161</th>\n",
       "      <td>Rocasaurus</td>\n",
       "      <td>158,577.00</td>\n",
       "    </tr>\n",
       "    <tr>\n",
       "      <th>4132162</th>\n",
       "      <td>Medalla Conmemorativa del 50.º Aniversario de ...</td>\n",
       "      <td>5,429,951.00</td>\n",
       "    </tr>\n",
       "    <tr>\n",
       "      <th>4132163</th>\n",
       "      <td>Fatikroy</td>\n",
       "      <td>86,975.00</td>\n",
       "    </tr>\n",
       "  </tbody>\n",
       "</table>\n",
       "<p>4132164 rows × 2 columns</p>\n",
       "</div>"
      ],
      "text/plain": [
       "                                                     title  \\\n",
       "0                          Wikipedia:Artículos solicitados   \n",
       "1                                                  Andorra   \n",
       "2                                                Argentina   \n",
       "3                                     Geografía de Andorra   \n",
       "4                                    Demografía de Andorra   \n",
       "...                                                    ...   \n",
       "4132159                                    Cruz nestoriana   \n",
       "4132160  Manifestación del orgullo gay de 1977 en Barce...   \n",
       "4132161                                         Rocasaurus   \n",
       "4132162  Medalla Conmemorativa del 50.º Aniversario de ...   \n",
       "4132163                                           Fatikroy   \n",
       "\n",
       "                           identificador_editor  \n",
       "0                                  1,708,233.00  \n",
       "1        2800:CD0:FC1B:A900:C5A4:9E81:7175:2ED2  \n",
       "2                                  4,642,283.00  \n",
       "3                                  5,338,508.00  \n",
       "4                                  3,615,366.00  \n",
       "...                                         ...  \n",
       "4132159                              474,907.00  \n",
       "4132160                            4,032,712.00  \n",
       "4132161                              158,577.00  \n",
       "4132162                            5,429,951.00  \n",
       "4132163                               86,975.00  \n",
       "\n",
       "[4132164 rows x 2 columns]"
      ]
     },
     "metadata": {},
     "output_type": "display_data"
    }
   ],
   "source": [
    "wiki_contents = wiki_contents.rename(columns={\"revisor_id\":\"identificador_editor\"})\n",
    "\n",
    "display(wiki_contents)"
   ]
  },
  {
   "cell_type": "markdown",
   "id": "9607a0b4",
   "metadata": {},
   "source": [
    "# 2. Evaluo si hay datos invalidos y los borro en caso de haber\n",
    "\n",
    "En este paso, me quedo con las publicaciones (items) cuya ultima version fue editada por un usuario registrado o no registrado."
   ]
  },
  {
   "cell_type": "code",
   "execution_count": 5,
   "id": "e02adf34",
   "metadata": {},
   "outputs": [
    {
     "data": {
      "text/plain": [
       "True"
      ]
     },
     "execution_count": 5,
     "metadata": {},
     "output_type": "execute_result"
    }
   ],
   "source": [
    "wiki_contents[\"identificador_editor\"].hasnans"
   ]
  },
  {
   "cell_type": "code",
   "execution_count": 6,
   "id": "d60ca56c",
   "metadata": {},
   "outputs": [],
   "source": [
    "wiki_contents.dropna(subset=['identificador_editor'], inplace=True)"
   ]
  },
  {
   "cell_type": "code",
   "execution_count": 7,
   "id": "52c15ed7",
   "metadata": {},
   "outputs": [
    {
     "data": {
      "text/plain": [
       "False"
      ]
     },
     "execution_count": 7,
     "metadata": {},
     "output_type": "execute_result"
    }
   ],
   "source": [
    "wiki_contents[\"identificador_editor\"].hasnans"
   ]
  },
  {
   "cell_type": "code",
   "execution_count": 8,
   "id": "06061806",
   "metadata": {},
   "outputs": [
    {
     "data": {
      "text/plain": [
       "True"
      ]
     },
     "execution_count": 8,
     "metadata": {},
     "output_type": "execute_result"
    }
   ],
   "source": [
    "wiki_contents[\"title\"].hasnans"
   ]
  },
  {
   "cell_type": "code",
   "execution_count": 9,
   "id": "0b79983c",
   "metadata": {},
   "outputs": [],
   "source": [
    "wiki_contents.dropna(subset=['title'], inplace=True)"
   ]
  },
  {
   "cell_type": "code",
   "execution_count": 10,
   "id": "dbce0412",
   "metadata": {},
   "outputs": [
    {
     "data": {
      "text/plain": [
       "False"
      ]
     },
     "execution_count": 10,
     "metadata": {},
     "output_type": "execute_result"
    }
   ],
   "source": [
    "wiki_contents[\"title\"].hasnans"
   ]
  },
  {
   "cell_type": "markdown",
   "id": "8c996027",
   "metadata": {},
   "source": [
    "# 3. Intersecto los contenidos modificados con los logs\n",
    "\n",
    "Quiero el historial de las publicaciones de contenido que fueron editadas. \n",
    "\n",
    "Para eso intersecto por `title` al database de `log.csv` con la database `wiki_contents` recien hallado"
   ]
  },
  {
   "cell_type": "code",
   "execution_count": null,
   "id": "c603d3be",
   "metadata": {},
   "outputs": [],
   "source": [
    "# Cargo los datasets\n",
    "logs = pd.read_csv('./Wikipedia_dataset_2c2021/logs.csv', usecols=['title', 'action'])\n",
    "display(logs)"
   ]
  },
  {
   "cell_type": "code",
   "execution_count": null,
   "id": "cd690de4",
   "metadata": {},
   "outputs": [],
   "source": [
    "# Determino cuantas veces se modifica cada publicacion\n",
    "logs_db = logs.groupby('title').agg(cant_modificaciones=('title', 'count') )\n",
    "display(logs_db)"
   ]
  },
  {
   "cell_type": "markdown",
   "id": "78476207",
   "metadata": {},
   "source": [
    "### Uno los databases"
   ]
  },
  {
   "cell_type": "code",
   "execution_count": null,
   "id": "f514823b",
   "metadata": {
    "scrolled": false
   },
   "outputs": [],
   "source": [
    "contenido_con_cant_modificaciones = wiki_contents.merge(logs_db, how='inner', left_on='title',right_index=True)\n",
    "display(contenido_con_cant_modificaciones)"
   ]
  },
  {
   "cell_type": "markdown",
   "id": "6587b958",
   "metadata": {},
   "source": [
    "# 4. Cantidad promedio de modificaciones"
   ]
  },
  {
   "cell_type": "code",
   "execution_count": null,
   "id": "02154614",
   "metadata": {},
   "outputs": [],
   "source": [
    "contenido_con_cant_modificaciones['cant_modificaciones'].mean()"
   ]
  },
  {
   "cell_type": "markdown",
   "id": "347dbca5",
   "metadata": {},
   "source": [
    "## Estadisticas Adicionales"
   ]
  },
  {
   "cell_type": "code",
   "execution_count": null,
   "id": "121ca885",
   "metadata": {},
   "outputs": [],
   "source": [
    "contenido_con_cant_modificaciones.groupby('cant_modificaciones').agg({'title':'count'}) / \\\n",
    "                                    contenido_con_cant_modificaciones['cant_modificaciones'].size * 100"
   ]
  },
  {
   "cell_type": "code",
   "execution_count": null,
   "id": "e301b03e",
   "metadata": {},
   "outputs": [],
   "source": [
    "# Porcentaje de publicaciones que se modifican 5 o mas veces\n",
    "\n",
    "contenido_con_cant_modificaciones.groupby('cant_modificaciones').agg({'title':'count'}).loc[5:,].sum() / \\\n",
    "                                    contenido_con_cant_modificaciones['cant_modificaciones'].size * 100"
   ]
  },
  {
   "cell_type": "markdown",
   "id": "8693c242",
   "metadata": {},
   "source": [
    "# Conclusion\n",
    "\n",
    "Vemos que el promedio de cantidad de modificaciones historicas para las publicaciones cuya ultima version fue editada por cualquier tipo de usuario (registrado o no registrado) es de 1.43.\n",
    "\n",
    "Esto significa que un porcentaje alto de publicaciones no se editan mucho una vez creada.\n",
    "\n",
    "Para la muestra de publicaciones estudiada (las ultimas modificadas por usuarios), vemos que un 77.21% son publicaciones que solo se modifican 1 vez (seguramente en su creacion) y la inmensa mayoria se editan como maximo 5 veces.\n",
    "\n",
    "Es interesante ver que aproximadamente un 2.17% del total de 1193006 publicaciones tienen modificaciones mayor o igual a 5 veces.\n",
    "\n",
    "Resalta el outlier de la publicacion que ha sido modificada 521 veces. Esta publicacion corresponde a la portada de Wikipedia, lo cual es razonable que sea modificada muchas veces."
   ]
  }
 ],
 "metadata": {
  "kernelspec": {
   "display_name": "organizacionDatos",
   "language": "python",
   "name": "organizaciondatos"
  },
  "language_info": {
   "codemirror_mode": {
    "name": "ipython",
    "version": 3
   },
   "file_extension": ".py",
   "mimetype": "text/x-python",
   "name": "python",
   "nbconvert_exporter": "python",
   "pygments_lexer": "ipython3",
   "version": "3.9.6"
  }
 },
 "nbformat": 4,
 "nbformat_minor": 5
}
