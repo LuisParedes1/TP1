{
 "cells": [
  {
   "cell_type": "markdown",
   "id": "b14bb2bf",
   "metadata": {},
   "source": [
    "# Ej 47\n",
    "\n",
    "La mediana de cantidad de links internos que tienen **todos los contenidos que existen**"
   ]
  },
  {
   "cell_type": "markdown",
   "id": "41a01993",
   "metadata": {},
   "source": [
    "## Supuestos\n",
    "\n",
    "Suponiendo que **todos los contenidos que existen en Wikipedia se encuentran en `content.csv`**, entonces determino la base de datos que deriva de la interseccion entre `pagelinks_sample.csv` y `content.csv` y sobre la misma determino la mediana de la cantidad de links internos.\n",
    "\n",
    "Es decir, todos los links internos que aparecen en `pagelinks_sample.csv` van a estar contendio en una pagina cuyo ID se van a encontrar en `content.csv`, pero la nueva informacion que me da son los enlaces internos que tiene la pagina. \n",
    "\n",
    "Si una pagina no tiene enlaces internos, entonces el total de enlaces internos sera 0."
   ]
  },
  {
   "cell_type": "code",
   "execution_count": 1,
   "id": "d4edd548",
   "metadata": {},
   "outputs": [],
   "source": [
    "# importacion general de librerias y de visualizacion (matplotlib y seaborn)\n",
    "import pandas as pd\n",
    "import numpy as np\n",
    "import matplotlib.pyplot as plt\n",
    "import seaborn as sns\n",
    "\n",
    "%matplotlib inline\n",
    "\n",
    "plt.style.use('default') # haciendo los graficos un poco mas bonitos en matplotlib\n",
    "#plt.rcParams['figure.figsize'] = (20, 10)\n",
    "\n",
    "sns.set(style=\"whitegrid\") # seteando tipo de grid en seaborn\n",
    "\n",
    "pd.options.display.float_format = '{:20,.2f}'.format # suprimimos la notacion cientifica en los outputs\n",
    "\n",
    "import warnings\n",
    "warnings.filterwarnings('ignore')\n",
    "\n",
    "from datetime import datetime"
   ]
  },
  {
   "cell_type": "code",
   "execution_count": 2,
   "id": "e959d348",
   "metadata": {},
   "outputs": [],
   "source": [
    "# Cargo los links internos\n",
    "pagelinks=pd.read_csv('./Wikipedia_dataset_2c2021/pagelinks_sample.csv',usecols=['pl_from','pl_title'],\n",
    "                      nrows=10000000)"
   ]
  },
  {
   "cell_type": "markdown",
   "id": "b9cf22d6",
   "metadata": {},
   "source": [
    "## 1. Hallo la base de datos con la cantidad de enlaces internos por contenido y muestro el resultado"
   ]
  },
  {
   "cell_type": "code",
   "execution_count": 3,
   "id": "28a2eae6",
   "metadata": {},
   "outputs": [
    {
     "data": {
      "text/html": [
       "<div>\n",
       "<style scoped>\n",
       "    .dataframe tbody tr th:only-of-type {\n",
       "        vertical-align: middle;\n",
       "    }\n",
       "\n",
       "    .dataframe tbody tr th {\n",
       "        vertical-align: top;\n",
       "    }\n",
       "\n",
       "    .dataframe thead th {\n",
       "        text-align: right;\n",
       "    }\n",
       "</style>\n",
       "<table border=\"1\" class=\"dataframe\">\n",
       "  <thead>\n",
       "    <tr style=\"text-align: right;\">\n",
       "      <th></th>\n",
       "      <th>links_internos</th>\n",
       "    </tr>\n",
       "    <tr>\n",
       "      <th>pl_from</th>\n",
       "      <th></th>\n",
       "    </tr>\n",
       "  </thead>\n",
       "  <tbody>\n",
       "    <tr>\n",
       "      <th>5</th>\n",
       "      <td>263</td>\n",
       "    </tr>\n",
       "    <tr>\n",
       "      <th>7</th>\n",
       "      <td>45</td>\n",
       "    </tr>\n",
       "    <tr>\n",
       "      <th>10</th>\n",
       "      <td>209</td>\n",
       "    </tr>\n",
       "    <tr>\n",
       "      <th>15</th>\n",
       "      <td>13</td>\n",
       "    </tr>\n",
       "    <tr>\n",
       "      <th>17</th>\n",
       "      <td>4</td>\n",
       "    </tr>\n",
       "    <tr>\n",
       "      <th>...</th>\n",
       "      <td>...</td>\n",
       "    </tr>\n",
       "    <tr>\n",
       "      <th>10010768</th>\n",
       "      <td>1</td>\n",
       "    </tr>\n",
       "    <tr>\n",
       "      <th>10010770</th>\n",
       "      <td>3</td>\n",
       "    </tr>\n",
       "    <tr>\n",
       "      <th>10010771</th>\n",
       "      <td>1</td>\n",
       "    </tr>\n",
       "    <tr>\n",
       "      <th>10010774</th>\n",
       "      <td>4</td>\n",
       "    </tr>\n",
       "    <tr>\n",
       "      <th>10010782</th>\n",
       "      <td>1</td>\n",
       "    </tr>\n",
       "  </tbody>\n",
       "</table>\n",
       "<p>3039788 rows × 1 columns</p>\n",
       "</div>"
      ],
      "text/plain": [
       "          links_internos\n",
       "pl_from                 \n",
       "5                    263\n",
       "7                     45\n",
       "10                   209\n",
       "15                    13\n",
       "17                     4\n",
       "...                  ...\n",
       "10010768               1\n",
       "10010770               3\n",
       "10010771               1\n",
       "10010774               4\n",
       "10010782               1\n",
       "\n",
       "[3039788 rows x 1 columns]"
      ]
     },
     "metadata": {},
     "output_type": "display_data"
    }
   ],
   "source": [
    "db_links_internos = pagelinks.groupby('pl_from').agg(links_internos=('pl_title','count'))\n",
    "display(db_links_internos)"
   ]
  },
  {
   "cell_type": "markdown",
   "id": "691bec4b",
   "metadata": {},
   "source": [
    "## 2. Uno la base de datos hallada con el contents.csv\n",
    "\n",
    "Uno las bases de datos teniendo en cuenta el ID en comun que tiene cada publicacion. \n",
    "\n",
    "Como db_pagelinks es un subconjunto de db_contents, entonces hago un inner join."
   ]
  },
  {
   "cell_type": "code",
   "execution_count": 4,
   "id": "3633e357",
   "metadata": {},
   "outputs": [
    {
     "data": {
      "text/html": [
       "<div>\n",
       "<style scoped>\n",
       "    .dataframe tbody tr th:only-of-type {\n",
       "        vertical-align: middle;\n",
       "    }\n",
       "\n",
       "    .dataframe tbody tr th {\n",
       "        vertical-align: top;\n",
       "    }\n",
       "\n",
       "    .dataframe thead th {\n",
       "        text-align: right;\n",
       "    }\n",
       "</style>\n",
       "<table border=\"1\" class=\"dataframe\">\n",
       "  <thead>\n",
       "    <tr style=\"text-align: right;\">\n",
       "      <th></th>\n",
       "      <th>id</th>\n",
       "    </tr>\n",
       "  </thead>\n",
       "  <tbody>\n",
       "    <tr>\n",
       "      <th>0</th>\n",
       "      <td>5</td>\n",
       "    </tr>\n",
       "    <tr>\n",
       "      <th>1</th>\n",
       "      <td>7</td>\n",
       "    </tr>\n",
       "    <tr>\n",
       "      <th>2</th>\n",
       "      <td>10</td>\n",
       "    </tr>\n",
       "    <tr>\n",
       "      <th>3</th>\n",
       "      <td>15</td>\n",
       "    </tr>\n",
       "    <tr>\n",
       "      <th>4</th>\n",
       "      <td>17</td>\n",
       "    </tr>\n",
       "    <tr>\n",
       "      <th>...</th>\n",
       "      <td>...</td>\n",
       "    </tr>\n",
       "    <tr>\n",
       "      <th>4132159</th>\n",
       "      <td>10010593</td>\n",
       "    </tr>\n",
       "    <tr>\n",
       "      <th>4132160</th>\n",
       "      <td>10010595</td>\n",
       "    </tr>\n",
       "    <tr>\n",
       "      <th>4132161</th>\n",
       "      <td>10010596</td>\n",
       "    </tr>\n",
       "    <tr>\n",
       "      <th>4132162</th>\n",
       "      <td>10010598</td>\n",
       "    </tr>\n",
       "    <tr>\n",
       "      <th>4132163</th>\n",
       "      <td>10010600</td>\n",
       "    </tr>\n",
       "  </tbody>\n",
       "</table>\n",
       "<p>4132164 rows × 1 columns</p>\n",
       "</div>"
      ],
      "text/plain": [
       "               id\n",
       "0               5\n",
       "1               7\n",
       "2              10\n",
       "3              15\n",
       "4              17\n",
       "...           ...\n",
       "4132159  10010593\n",
       "4132160  10010595\n",
       "4132161  10010596\n",
       "4132162  10010598\n",
       "4132163  10010600\n",
       "\n",
       "[4132164 rows x 1 columns]"
      ]
     },
     "metadata": {},
     "output_type": "display_data"
    }
   ],
   "source": [
    "contents=pd.read_csv('./Wikipedia_dataset_2c2021/contents.csv', usecols=['id']) \n",
    "display(contents)"
   ]
  },
  {
   "cell_type": "code",
   "execution_count": 5,
   "id": "a6628c17",
   "metadata": {},
   "outputs": [
    {
     "data": {
      "text/html": [
       "<div>\n",
       "<style scoped>\n",
       "    .dataframe tbody tr th:only-of-type {\n",
       "        vertical-align: middle;\n",
       "    }\n",
       "\n",
       "    .dataframe tbody tr th {\n",
       "        vertical-align: top;\n",
       "    }\n",
       "\n",
       "    .dataframe thead th {\n",
       "        text-align: right;\n",
       "    }\n",
       "</style>\n",
       "<table border=\"1\" class=\"dataframe\">\n",
       "  <thead>\n",
       "    <tr style=\"text-align: right;\">\n",
       "      <th></th>\n",
       "      <th>id</th>\n",
       "      <th>links_internos</th>\n",
       "    </tr>\n",
       "  </thead>\n",
       "  <tbody>\n",
       "    <tr>\n",
       "      <th>0</th>\n",
       "      <td>5</td>\n",
       "      <td>263</td>\n",
       "    </tr>\n",
       "    <tr>\n",
       "      <th>1</th>\n",
       "      <td>7</td>\n",
       "      <td>45</td>\n",
       "    </tr>\n",
       "    <tr>\n",
       "      <th>2</th>\n",
       "      <td>10</td>\n",
       "      <td>209</td>\n",
       "    </tr>\n",
       "    <tr>\n",
       "      <th>3</th>\n",
       "      <td>15</td>\n",
       "      <td>13</td>\n",
       "    </tr>\n",
       "    <tr>\n",
       "      <th>4</th>\n",
       "      <td>17</td>\n",
       "      <td>4</td>\n",
       "    </tr>\n",
       "    <tr>\n",
       "      <th>...</th>\n",
       "      <td>...</td>\n",
       "      <td>...</td>\n",
       "    </tr>\n",
       "    <tr>\n",
       "      <th>4132153</th>\n",
       "      <td>10010587</td>\n",
       "      <td>2</td>\n",
       "    </tr>\n",
       "    <tr>\n",
       "      <th>4132157</th>\n",
       "      <td>10010591</td>\n",
       "      <td>2</td>\n",
       "    </tr>\n",
       "    <tr>\n",
       "      <th>4132158</th>\n",
       "      <td>10010592</td>\n",
       "      <td>2</td>\n",
       "    </tr>\n",
       "    <tr>\n",
       "      <th>4132160</th>\n",
       "      <td>10010595</td>\n",
       "      <td>1</td>\n",
       "    </tr>\n",
       "    <tr>\n",
       "      <th>4132163</th>\n",
       "      <td>10010600</td>\n",
       "      <td>3</td>\n",
       "    </tr>\n",
       "  </tbody>\n",
       "</table>\n",
       "<p>1803021 rows × 2 columns</p>\n",
       "</div>"
      ],
      "text/plain": [
       "               id  links_internos\n",
       "0               5             263\n",
       "1               7              45\n",
       "2              10             209\n",
       "3              15              13\n",
       "4              17               4\n",
       "...           ...             ...\n",
       "4132153  10010587               2\n",
       "4132157  10010591               2\n",
       "4132158  10010592               2\n",
       "4132160  10010595               1\n",
       "4132163  10010600               3\n",
       "\n",
       "[1803021 rows x 2 columns]"
      ]
     },
     "metadata": {},
     "output_type": "display_data"
    }
   ],
   "source": [
    "content_con_links_internos = contents.merge(db_links_internos, how='inner', left_on='id',right_index=True)\n",
    "display(content_con_links_internos)"
   ]
  },
  {
   "cell_type": "markdown",
   "id": "dbfb873b",
   "metadata": {},
   "source": [
    "## Reemplazo los Nans por 0"
   ]
  },
  {
   "cell_type": "code",
   "execution_count": 6,
   "id": "267e08bd",
   "metadata": {},
   "outputs": [],
   "source": [
    "content_con_links_internos['links_internos']=content_con_links_internos['links_internos'].fillna(0)"
   ]
  },
  {
   "cell_type": "markdown",
   "id": "498bf16e",
   "metadata": {},
   "source": [
    "## Calculo el valor de la mediana"
   ]
  },
  {
   "cell_type": "code",
   "execution_count": 7,
   "id": "a62b1dc3",
   "metadata": {},
   "outputs": [
    {
     "data": {
      "text/plain": [
       "3.0"
      ]
     },
     "execution_count": 7,
     "metadata": {},
     "output_type": "execute_result"
    }
   ],
   "source": [
    "content_con_links_internos['links_internos'].median()"
   ]
  },
  {
   "cell_type": "code",
   "execution_count": 8,
   "id": "949b3f03",
   "metadata": {},
   "outputs": [
    {
     "data": {
      "text/plain": [
       "1803021"
      ]
     },
     "execution_count": 8,
     "metadata": {},
     "output_type": "execute_result"
    }
   ],
   "source": [
    "content_con_links_internos['links_internos'].size"
   ]
  },
  {
   "cell_type": "markdown",
   "id": "0525df91",
   "metadata": {},
   "source": [
    "# Conclusion\n",
    "\n",
    "Para una muestra de $1803021$ articulos de wikipedia, se observa que la mediana de cantidad de links internos por articulo, se encuentra en $3.00$.\n",
    "\n",
    "Es importante destacar que esta muestra de datos pagelinks_sample se encuentra incompleta por motivos limitantes de memoria, por lo que la mediana se podria ser otro valor."
   ]
  }
 ],
 "metadata": {
  "kernelspec": {
   "display_name": "organizacionDatos",
   "language": "python",
   "name": "organizaciondatos"
  },
  "language_info": {
   "codemirror_mode": {
    "name": "ipython",
    "version": 3
   },
   "file_extension": ".py",
   "mimetype": "text/x-python",
   "name": "python",
   "nbconvert_exporter": "python",
   "pygments_lexer": "ipython3",
   "version": "3.9.6"
  }
 },
 "nbformat": 4,
 "nbformat_minor": 5
}
