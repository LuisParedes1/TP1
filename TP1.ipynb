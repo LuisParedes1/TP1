{
 "cells": [
  {
   "cell_type": "code",
   "execution_count": 2,
   "id": "57046bde",
   "metadata": {},
   "outputs": [],
   "source": [
    "# importacion general de librerias y de visualizacion (matplotlib y seaborn)\n",
    "import pandas as pd\n",
    "import numpy as np\n",
    "import matplotlib.pyplot as plt\n",
    "import seaborn as sns\n",
    "\n",
    "%matplotlib inline\n",
    "\n",
    "plt.style.use('default') # haciendo los graficos un poco mas bonitos en matplotlib\n",
    "#plt.rcParams['figure.figsize'] = (20, 10)\n",
    "\n",
    "sns.set(style=\"whitegrid\") # seteando tipo de grid en seaborn\n",
    "\n",
    "pd.options.display.float_format = '{:20,.2f}'.format # suprimimos la notacion cientifica en los outputs\n",
    "\n",
    "import warnings\n",
    "warnings.filterwarnings('ignore')\n",
    "\n",
    "from datetime import datetime"
   ]
  },
  {
   "cell_type": "code",
   "execution_count": 3,
   "id": "5683d314",
   "metadata": {},
   "outputs": [
    {
     "data": {
      "text/plain": [
       "\"\\nwiki_contents_text_sample=pd.read_csv('./Wikipedia_dataset_2c2021/contents_text_sample.csv')\\nwiki_geo_tags=pd.read_csv('./Wikipedia_dataset_2c2021/geo_tags.csv')\\nwiki_languages=pd.read_csv('./Wikipedia_dataset_2c2021/languages.csv')\\nwiki_logs=pd.read_csv('./Wikipedia_dataset_2c2021/logs.csv')\\nwiki_pagelinks_sample=pd.read_csv('./Wikipedia_dataset_2c2021/pagelinks_sample.csv')\\nwiki_redirect_list=pd.read_csv('./Wikipedia_dataset_2c2021/redirect_list.csv')\\n\""
      ]
     },
     "execution_count": 3,
     "metadata": {},
     "output_type": "execute_result"
    }
   ],
   "source": [
    "# Cargo los datasets\n",
    "wiki_contents=pd.read_csv('./Wikipedia_dataset_2c2021/contents.csv')\n",
    "wiki_categorylinks=pd.read_csv('./Wikipedia_dataset_2c2021/categorylinks.csv')\n",
    "'''\n",
    "wiki_contents_text_sample=pd.read_csv('./Wikipedia_dataset_2c2021/contents_text_sample.csv')\n",
    "wiki_geo_tags=pd.read_csv('./Wikipedia_dataset_2c2021/geo_tags.csv')\n",
    "wiki_languages=pd.read_csv('./Wikipedia_dataset_2c2021/languages.csv')\n",
    "wiki_logs=pd.read_csv('./Wikipedia_dataset_2c2021/logs.csv')\n",
    "wiki_pagelinks_sample=pd.read_csv('./Wikipedia_dataset_2c2021/pagelinks_sample.csv')\n",
    "wiki_redirect_list=pd.read_csv('./Wikipedia_dataset_2c2021/redirect_list.csv')\n",
    "'''"
   ]
  },
  {
   "cell_type": "markdown",
   "id": "0b582e68",
   "metadata": {},
   "source": [
    " # Pregunta 6 (2 estrella)\n",
    " \n",
    "El porcentaje de contenidos que están publicados cuya última edición no tiene comentario para los usuarios que realizaron 1, >10 y >100 de las últimas ediciones."
   ]
  },
  {
   "cell_type": "code",
   "execution_count": 4,
   "id": "b619635e",
   "metadata": {},
   "outputs": [
    {
     "data": {
      "text/html": [
       "<div>\n",
       "<style scoped>\n",
       "    .dataframe tbody tr th:only-of-type {\n",
       "        vertical-align: middle;\n",
       "    }\n",
       "\n",
       "    .dataframe tbody tr th {\n",
       "        vertical-align: top;\n",
       "    }\n",
       "\n",
       "    .dataframe thead th {\n",
       "        text-align: right;\n",
       "    }\n",
       "</style>\n",
       "<table border=\"1\" class=\"dataframe\">\n",
       "  <thead>\n",
       "    <tr style=\"text-align: right;\">\n",
       "      <th></th>\n",
       "      <th>cl_from</th>\n",
       "      <th>cl_to</th>\n",
       "      <th>cl_sortkey</th>\n",
       "      <th>cl_timestamp</th>\n",
       "      <th>cl_sortkey_prefix</th>\n",
       "      <th>cl_collation</th>\n",
       "      <th>cl_type</th>\n",
       "    </tr>\n",
       "  </thead>\n",
       "  <tbody>\n",
       "    <tr>\n",
       "      <th>0</th>\n",
       "      <td>5</td>\n",
       "      <td>Wikipedia:Mantenimiento</td>\n",
       "      <td>*LP:.R@FN\u0004NF@:.:P*0FN\u0003\u0006*LP:.R@FN\u0004NF@:.:P*0FN\u0001,...</td>\n",
       "      <td>2018-06-06 21:42:29</td>\n",
       "      <td>Articulos solicitados</td>\n",
       "      <td>uca-es-u-kn</td>\n",
       "      <td>page</td>\n",
       "    </tr>\n",
       "    <tr>\n",
       "      <th>1</th>\n",
       "      <td>5</td>\n",
       "      <td>Wikipedia:PÃ¡ginas_con_enlaces_mÃ¡gicos_de_ISBN</td>\n",
       "      <td>*LP:.R@FN\u0004NF@:.:P*0FN\u0001B\u0015\u0001Ü\u0019</td>\n",
       "      <td>2021-04-01 03:18:11</td>\n",
       "      <td>NaN</td>\n",
       "      <td>uca-es-u-kn</td>\n",
       "      <td>page</td>\n",
       "    </tr>\n",
       "    <tr>\n",
       "      <th>2</th>\n",
       "      <td>7</td>\n",
       "      <td>Andorra</td>\n",
       "      <td>\u0004\u0003\u0006*D0FLL*\u0001\\n\u0001ÄÜ\\n</td>\n",
       "      <td>2013-01-12 19:07:41</td>\n",
       "      <td></td>\n",
       "      <td>uca-es-u-kn</td>\n",
       "      <td>page</td>\n",
       "    </tr>\n",
       "    <tr>\n",
       "      <th>3</th>\n",
       "      <td>7</td>\n",
       "      <td>Instituciones_patrocinadoras_de_equipos_ciclistas</td>\n",
       "      <td>*D0FLL*\u0001\u000b",
       "\u0001Ü\\n</td>\n",
       "      <td>2011-03-30 19:52:38</td>\n",
       "      <td>NaN</td>\n",
       "      <td>uca-es-u-kn</td>\n",
       "      <td>page</td>\n",
       "    </tr>\n",
       "    <tr>\n",
       "      <th>4</th>\n",
       "      <td>7</td>\n",
       "      <td>Wikipedia:ArtÃ­culos_con_datos_locales</td>\n",
       "      <td>*D0FLL*\u0001\u000b",
       "\u0001Ü\\n</td>\n",
       "      <td>2021-06-16 09:38:24</td>\n",
       "      <td>NaN</td>\n",
       "      <td>uca-es-u-kn</td>\n",
       "      <td>page</td>\n",
       "    </tr>\n",
       "  </tbody>\n",
       "</table>\n",
       "</div>"
      ],
      "text/plain": [
       "   cl_from                                              cl_to  \\\n",
       "0        5                            Wikipedia:Mantenimiento   \n",
       "1        5    Wikipedia:PÃ¡ginas_con_enlaces_mÃ¡gicos_de_ISBN   \n",
       "2        7                                            Andorra   \n",
       "3        7  Instituciones_patrocinadoras_de_equipos_ciclistas   \n",
       "4        7             Wikipedia:ArtÃ­culos_con_datos_locales   \n",
       "\n",
       "                                          cl_sortkey         cl_timestamp  \\\n",
       "0  *LP:.R@FN\u0004NF@:.:P*0FN\u0003\u0006*LP:.R@FN\u0004NF@:.:P*0FN\u0001,...  2018-06-06 21:42:29   \n",
       "1                       *LP:.R@FN\u0004NF@:.:P*0FN\u0001B\u0015\u0001Ü\u0019  2021-04-01 03:18:11   \n",
       "2                                 \u0004\u0003\u0006*D0FLL*\u0001\\n\u0001ÄÜ\\n  2013-01-12 19:07:41   \n",
       "3                                      *D0FLL*\u0001\n",
       "\u0001Ü\\n  2011-03-30 19:52:38   \n",
       "4                                      *D0FLL*\u0001\n",
       "\u0001Ü\\n  2021-06-16 09:38:24   \n",
       "\n",
       "       cl_sortkey_prefix cl_collation cl_type  \n",
       "0  Articulos solicitados  uca-es-u-kn    page  \n",
       "1                    NaN  uca-es-u-kn    page  \n",
       "2                         uca-es-u-kn    page  \n",
       "3                    NaN  uca-es-u-kn    page  \n",
       "4                    NaN  uca-es-u-kn    page  "
      ]
     },
     "execution_count": 4,
     "metadata": {},
     "output_type": "execute_result"
    }
   ],
   "source": [
    "wiki_categorylinks.head()"
   ]
  },
  {
   "cell_type": "code",
   "execution_count": null,
   "id": "8ed5c661",
   "metadata": {},
   "outputs": [],
   "source": []
  }
 ],
 "metadata": {
  "kernelspec": {
   "display_name": "organizacionDatos",
   "language": "python",
   "name": "organizaciondatos"
  },
  "language_info": {
   "codemirror_mode": {
    "name": "ipython",
    "version": 3
   },
   "file_extension": ".py",
   "mimetype": "text/x-python",
   "name": "python",
   "nbconvert_exporter": "python",
   "pygments_lexer": "ipython3",
   "version": "3.9.6"
  }
 },
 "nbformat": 4,
 "nbformat_minor": 5
}
